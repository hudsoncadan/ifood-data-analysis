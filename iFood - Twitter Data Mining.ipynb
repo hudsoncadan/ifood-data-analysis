{
 "cells": [
  {
   "cell_type": "markdown",
   "metadata": {},
   "source": [
    "# Twitter Search API\n",
    "Documentação da Search API disponível em https://developer.twitter.com/en/docs/tweets/search/overview\n",
    "\n",
    "Para utilizar a __API de Pesquisas do Twitter _(Search API)___  você deverá atender aos seguintes requisitos:\n",
    "* Possuir uma conta de Twitter Developer\n",
    "* Criar um Twitter App\n",
    "* Instalar o módulo __searchtweets__, disponível em https://github.com/twitterdev/search-tweets-python. <br>\n",
    "Existem outras bibliotecas disponíveis, consulte-as em https://developer.twitter.com/en/docs/developer-utilities/twitter-libraries.html\n",
    "* Crie um arquivo __.twitter_keys.yaml__ \n",
    "\n",
    "O arquivo __.twitter_keys.yaml__ terá o seguinte conteúdo:\n",
    "\n",
    "search_tweets_premium_full: <br>\n",
    "&emsp;&emsp;account_type: premium <br>\n",
    "&emsp;&emsp;endpoint: FULL_URL_OF_ENDPOINT <br>\n",
    "&emsp;&emsp;consumer_key: CONSUMER_KEY <br>\n",
    "&emsp;&emsp;consumer_secret: CONSUMER_SECRET\n",
    "\n",
    "_Consulte a sua variável __endpoint__ no link [https://developer.twitter.com/en/account/environments](https://developer.twitter.com/en/account/environments)_ <br>\n",
    "_Consulte as suas variáveis __consumer__\\___key__ e __consumer__\\___secret__ no link [https://developer.twitter.com/en/apps/](https://developer.twitter.com/en/apps/)_ \n",
    "\n",
    "Observe que na primeira linha do arquivo __.twitter_keys.yaml__ contém a chave __search_tweets_premium_full__. Esta chave será utilizada no método a seguir."
   ]
  },
  {
   "cell_type": "code",
   "execution_count": 1,
   "metadata": {
    "scrolled": true
   },
   "outputs": [
    {
     "name": "stderr",
     "output_type": "stream",
     "text": [
      "Grabbing bearer token from OAUTH\n"
     ]
    }
   ],
   "source": [
    "from searchtweets import ResultStream, gen_rule_payload, load_credentials, collect_results\n",
    "\n",
    "# Documentação: https://developer.twitter.com/en/docs/tweets/search/overview/premium\n",
    "search_args = load_credentials(\".twitter_keys.yaml\",\n",
    "                                       yaml_key=\"search_tweets_premium_full\",\n",
    "                                       env_overwrite=False)"
   ]
  },
  {
   "cell_type": "markdown",
   "metadata": {},
   "source": [
    "# Collect tweets\n",
    "Nesta etapa vamos solicitar os tweets através da API e salvar o resultado em um arquivo chamado __data.csv__."
   ]
  },
  {
   "cell_type": "code",
   "execution_count": 2,
   "metadata": {},
   "outputs": [
    {
     "name": "stdout",
     "output_type": "stream",
     "text": [
      "Rule: {\"query\": \"ifood\", \"toDate\": \"201905130200\", \"fromDate\": \"201905130100\"}\n",
      "Total de tweets encontrados: 314\n"
     ]
    }
   ],
   "source": [
    "import pandas as pd\n",
    "\n",
    "# Período para a pesquisa dos tweets\n",
    "start = '2019-05-13 01:00'\n",
    "end='2019-05-13 02:00'\n",
    "\n",
    "# Regra (testing with a sandbox account)\n",
    "rule = gen_rule_payload(\"ifood\", \n",
    "                         from_date=start, \n",
    "                         to_date=end) \n",
    "print(f'Rule: {rule}')\n",
    "\n",
    "# Realiza a consulta na API\n",
    "tweets = collect_results(rule, \n",
    "                         result_stream_args=search_args) \n",
    "\n",
    "# Converte o resultado em um DataFrame\n",
    "data = pd.DataFrame(tweets)\n",
    "print(f'Total de tweets encontrados: {len(data)}')\n",
    "\n",
    "# Salva o resultado em um arquivo CSV\n",
    "data.to_csv('data.csv', index=False)"
   ]
  },
  {
   "cell_type": "code",
   "execution_count": null,
   "metadata": {},
   "outputs": [],
   "source": []
  }
 ],
 "metadata": {
  "kernelspec": {
   "display_name": "Python 3",
   "language": "python",
   "name": "python3"
  },
  "language_info": {
   "codemirror_mode": {
    "name": "ipython",
    "version": 3
   },
   "file_extension": ".py",
   "mimetype": "text/x-python",
   "name": "python",
   "nbconvert_exporter": "python",
   "pygments_lexer": "ipython3",
   "version": "3.7.0"
  }
 },
 "nbformat": 4,
 "nbformat_minor": 2
}
